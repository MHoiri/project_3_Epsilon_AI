{
 "cells": [
  {
   "cell_type": "code",
   "execution_count": 1,
   "metadata": {},
   "outputs": [],
   "source": [
    "import os\n",
    "import random\n",
    "import time"
   ]
  },
  {
   "cell_type": "code",
   "execution_count": 2,
   "metadata": {},
   "outputs": [],
   "source": [
    "def people_names (path):\n",
    "    people= os.listdir(path)\n",
    "    return people\n"
   ]
  },
  {
   "cell_type": "code",
   "execution_count": 8,
   "metadata": {},
   "outputs": [
    {
     "data": {
      "text/plain": [
       "['Adam Sandler.jpg',\n",
       " 'Angelina Julie.png',\n",
       " 'Ariana Grande.jpeg',\n",
       " 'Ben Affleck.jpg',\n",
       " 'Ben Stiller.jpg',\n",
       " 'Bill Gates.jpg',\n",
       " 'Brad Pitt.jpg',\n",
       " 'Britney Spears.jpg',\n",
       " 'Bruce Lee.jpg',\n",
       " 'Cameron Diaz.jpg',\n",
       " 'Dwayne Johnson.jpg',\n",
       " 'Elon Musk.jpg',\n",
       " 'Elton John.jpg',\n",
       " 'Jack Black.jpg',\n",
       " 'Jackie Chan.jpg',\n",
       " 'Jamie Foxx.jpg',\n",
       " 'Jason Segel.jpg',\n",
       " 'Jason Statham.jpg',\n",
       " 'Jeff Bezos.jpg',\n",
       " 'Jennifer Aniston.jpg',\n",
       " 'Jennifer Lopez.jpg',\n",
       " 'Jerry Seinfeld.jpg',\n",
       " 'Jim Carrey.jpg',\n",
       " 'John Cena.jpg',\n",
       " 'Johnny Depp.jpg',\n",
       " 'Josh Radnor.jpg',\n",
       " 'Julia Roberts.jpg',\n",
       " 'Justin Timberlake.jpg',\n",
       " 'Kate Upton.jpg',\n",
       " 'Keanu Reeves.jpg',\n",
       " 'Kevin Hart.jpg',\n",
       " 'Madonna.jpg',\n",
       " 'Mark Ruffalo.jpg',\n",
       " 'Mark Zuckerberg.jpg',\n",
       " 'Matt Damon.jpg',\n",
       " 'Michael Jackson.jpg',\n",
       " 'Michael Jordan.jpg',\n",
       " 'Mindy Kaling.jpg',\n",
       " 'Miranda Cosgrove.jpg',\n",
       " 'Neil Patrick Harris.jpg',\n",
       " 'Nick Jonas.jpg',\n",
       " 'Nicole Kidman.jpg',\n",
       " 'Paul Rudd.jpg',\n",
       " 'Robin Williams.jpg',\n",
       " 'Steve Carell.jpg',\n",
       " 'Steve Jobs.jpg',\n",
       " 'Sylvester Stallone.jpg',\n",
       " 'Tom Cruise.jpg',\n",
       " 'Will Ferrell.jpg',\n",
       " 'Will Smith.jpg']"
      ]
     },
     "execution_count": 8,
     "metadata": {},
     "output_type": "execute_result"
    }
   ],
   "source": [
    "universe = people_names(\"G:\\Epslion\\projects\\project 3\\parallel_universe\")\n",
    "universe"
   ]
  },
  {
   "cell_type": "code",
   "execution_count": 9,
   "metadata": {},
   "outputs": [
    {
     "name": "stdout",
     "output_type": "stream",
     "text": [
      "['Adam', 'Sandler.jpg']\n",
      "['Angelina', 'Julie.png']\n",
      "['Ariana', 'Grande.jpeg']\n",
      "['Ben', 'Affleck.jpg']\n",
      "['Ben', 'Stiller.jpg']\n",
      "['Bill', 'Gates.jpg']\n",
      "['Brad', 'Pitt.jpg']\n",
      "['Britney', 'Spears.jpg']\n",
      "['Bruce', 'Lee.jpg']\n",
      "['Cameron', 'Diaz.jpg']\n",
      "['Dwayne', 'Johnson.jpg']\n",
      "['Elon', 'Musk.jpg']\n",
      "['Elton', 'John.jpg']\n",
      "['Jack', 'Black.jpg']\n",
      "['Jackie', 'Chan.jpg']\n",
      "['Jamie', 'Foxx.jpg']\n",
      "['Jason', 'Segel.jpg']\n",
      "['Jason', 'Statham.jpg']\n",
      "['Jeff', 'Bezos.jpg']\n",
      "['Jennifer', 'Aniston.jpg']\n",
      "['Jennifer', 'Lopez.jpg']\n",
      "['Jerry', 'Seinfeld.jpg']\n",
      "['Jim', 'Carrey.jpg']\n",
      "['John', 'Cena.jpg']\n",
      "['Johnny', 'Depp.jpg']\n",
      "['Josh', 'Radnor.jpg']\n",
      "['Julia', 'Roberts.jpg']\n",
      "['Justin', 'Timberlake.jpg']\n",
      "['Kate', 'Upton.jpg']\n",
      "['Keanu', 'Reeves.jpg']\n",
      "['Kevin', 'Hart.jpg']\n",
      "['Madonna.jpg']\n",
      "['Mark', 'Ruffalo.jpg']\n",
      "['Mark', 'Zuckerberg.jpg']\n",
      "['Matt', 'Damon.jpg']\n",
      "['Michael', 'Jackson.jpg']\n",
      "['Michael', 'Jordan.jpg']\n",
      "['Mindy', 'Kaling.jpg']\n",
      "['Miranda', 'Cosgrove.jpg']\n",
      "['Neil', 'Patrick', 'Harris.jpg']\n",
      "['Nick', 'Jonas.jpg']\n",
      "['Nicole', 'Kidman.jpg']\n",
      "['Paul', 'Rudd.jpg']\n",
      "['Robin', 'Williams.jpg']\n",
      "['Steve', 'Carell.jpg']\n",
      "['Steve', 'Jobs.jpg']\n",
      "['Sylvester', 'Stallone.jpg']\n",
      "['Tom', 'Cruise.jpg']\n",
      "['Will', 'Ferrell.jpg']\n",
      "['Will', 'Smith.jpg']\n"
     ]
    }
   ],
   "source": [
    "for k in universe:\n",
    "    name_parts= k.split()\n",
    "    print(name_parts)    \n",
    "    "
   ]
  },
  {
   "cell_type": "code",
   "execution_count": 10,
   "metadata": {},
   "outputs": [],
   "source": [
    "def snap3(universe):\n",
    "    for i in universe:\n",
    "        name_parts= i.split()\n",
    "        if len(name_parts)==2:\n",
    "            if name_parts[1][0]=='C':\n",
    "                os.remove('parallel_universe/'+i)\n",
    "                universe.remove(i)\n",
    "                print(\"killed person:\"+ i)\n",
    "                time.sleep(1)   \n",
    "    print(\"Perfectaly Balanced, as all things shoud be\")        "
   ]
  },
  {
   "cell_type": "code",
   "execution_count": 11,
   "metadata": {},
   "outputs": [
    {
     "name": "stdout",
     "output_type": "stream",
     "text": [
      "killed person:Jackie Chan.jpg\n",
      "killed person:Jim Carrey.jpg\n",
      "killed person:Miranda Cosgrove.jpg\n",
      "killed person:Steve Carell.jpg\n",
      "killed person:Tom Cruise.jpg\n",
      "Perfectaly Balanced, as all things shoud be\n"
     ]
    }
   ],
   "source": [
    "hard = snap3(universe)\n"
   ]
  },
  {
   "cell_type": "code",
   "execution_count": 12,
   "metadata": {},
   "outputs": [
    {
     "data": {
      "text/plain": [
       "45"
      ]
     },
     "execution_count": 12,
     "metadata": {},
     "output_type": "execute_result"
    }
   ],
   "source": [
    "len(universe)"
   ]
  },
  {
   "cell_type": "code",
   "execution_count": null,
   "metadata": {},
   "outputs": [],
   "source": []
  }
 ],
 "metadata": {
  "interpreter": {
   "hash": "5d7396fd15fe9ecb8108477d7fdd0cb877f5e15b6a84674f8994ce8c281b1511"
  },
  "kernelspec": {
   "display_name": "Python 3.9.7 ('base')",
   "language": "python",
   "name": "python3"
  },
  "language_info": {
   "codemirror_mode": {
    "name": "ipython",
    "version": 3
   },
   "file_extension": ".py",
   "mimetype": "text/x-python",
   "name": "python",
   "nbconvert_exporter": "python",
   "pygments_lexer": "ipython3",
   "version": "3.9.7"
  },
  "orig_nbformat": 4
 },
 "nbformat": 4,
 "nbformat_minor": 2
}
